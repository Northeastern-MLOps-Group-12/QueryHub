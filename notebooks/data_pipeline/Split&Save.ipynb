{
  "nbformat": 4,
  "nbformat_minor": 0,
  "metadata": {
    "colab": {
      "provenance": []
    },
    "kernelspec": {
      "name": "python3",
      "display_name": "Python 3"
    },
    "language_info": {
      "name": "python"
    }
  },
  "cells": [
    {
      "cell_type": "code",
      "source": [
        "# Notebook 3: Split & Save JSON\n",
        "import pandas as pd\n",
        "import json\n",
        "from sklearn.model_selection import train_test_split\n",
        "from datetime import datetime\n",
        "import os"
      ],
      "metadata": {
        "id": "i-DRHM0XM2Df"
      },
      "execution_count": 1,
      "outputs": []
    },
    {
      "cell_type": "code",
      "execution_count": 2,
      "metadata": {
        "colab": {
          "base_uri": "https://localhost:8080/"
        },
        "id": "kU5RG946MkNk",
        "outputId": "39c8c910-21fc-431d-9fb7-d5dfeb0a499f"
      },
      "outputs": [
        {
          "output_type": "stream",
          "name": "stdout",
          "text": [
            "Splits - Train: 89991, Val: 10000, Test: 5851\n"
          ]
        }
      ],
      "source": [
        "# Load\n",
        "train_df = pd.read_pickle('train_processed.pkl')\n",
        "test_df = pd.read_pickle('test_processed.pkl')\n",
        "\n",
        "# Create train/val split\n",
        "train_df['strat_key'] = train_df['domain'].astype(str) + '_' + train_df['sql_complexity'].astype(str)\n",
        "valid_keys = train_df['strat_key'].value_counts()\n",
        "valid_keys = valid_keys[valid_keys >= 2].index\n",
        "train_df = train_df[train_df['strat_key'].isin(valid_keys)]\n",
        "\n",
        "train_final, val_final = train_test_split(\n",
        "    train_df,\n",
        "    test_size=0.1,\n",
        "    stratify=train_df['strat_key'],\n",
        "    random_state=42\n",
        ")\n",
        "\n",
        "train_final = train_final.drop(columns=['strat_key'])\n",
        "val_final = val_final.drop(columns=['strat_key'])\n",
        "\n",
        "print(f\"Splits - Train: {len(train_final)}, Val: {len(val_final)}, Test: {len(test_df)}\")"
      ]
    },
    {
      "cell_type": "code",
      "source": [
        "# Save as JSON\n",
        "timestamp = datetime.now().strftime(\"%Y%m%d_%H%M%S\")\n",
        "os.makedirs('data/processed', exist_ok=True)\n",
        "\n",
        "datasets = {\n",
        "    'train': train_final.to_dict('records'),\n",
        "    'val': val_final.to_dict('records'),\n",
        "    'test': test_df.to_dict('records')\n",
        "}\n",
        "\n",
        "for name, data in datasets.items():\n",
        "    filepath = f'data/processed/{name}_{timestamp}.json'\n",
        "    with open(filepath, 'w') as f:\n",
        "        json.dump(data, f, indent=2)\n",
        "        print(f\"Saved {name}: {len(data)} samples\")\n",
        "\n",
        "# Report\n",
        "print(f\"\\n{'='*50}\")\n",
        "print(f\"DATA PIPELINE COMPLETE\")\n",
        "print(f\"{'='*50}\")\n",
        "print(f\"Timestamp: {timestamp}\")\n",
        "print(f\"Train: {len(datasets['train']):,} samples\")\n",
        "print(f\"Val: {len(datasets['val']):,} samples\")\n",
        "print(f\"Test: {len(datasets['test']):,} samples\")\n",
        "print(f\"JSON files saved with timestamp: {timestamp}\")"
      ],
      "metadata": {
        "colab": {
          "base_uri": "https://localhost:8080/"
        },
        "id": "KmAVCwxUM6xz",
        "outputId": "02d4d15f-e6ab-4051-f3d3-0c21c05d439f"
      },
      "execution_count": 3,
      "outputs": [
        {
          "output_type": "stream",
          "name": "stdout",
          "text": [
            "Saved train: 89991 samples\n",
            "Saved val: 10000 samples\n",
            "Saved test: 5851 samples\n",
            "\n",
            "==================================================\n",
            "DATA PIPELINE COMPLETE\n",
            "==================================================\n",
            "Timestamp: 20251024_171130\n",
            "Train: 89,991 samples\n",
            "Val: 10,000 samples\n",
            "Test: 5,851 samples\n",
            "JSON files saved with timestamp: 20251024_171130\n"
          ]
        }
      ]
    }
  ]
}